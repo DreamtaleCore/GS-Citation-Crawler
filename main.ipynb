{
 "cells": [
  {
   "cell_type": "code",
   "execution_count": 1,
   "metadata": {
    "pycharm": {
     "is_executing": false
    }
   },
   "outputs": [],
   "source": [
    "# -*- coding: UTF-8 -*-\n",
    "# 环境配置： Python + Splinter 实现浏览器自动化操作入门指南：\n",
    "# https://zhuanlan.zhihu.com/p/30208753\n",
    "from splinter import Browser\n",
    "import splinter\n",
    "\n",
    "import bibtexparser"
   ]
  },
  {
   "cell_type": "code",
   "execution_count": 40,
   "metadata": {
    "pycharm": {
     "is_executing": false
    }
   },
   "outputs": [],
   "source": [
    "browser = Browser('chrome')   #打开谷歌浏览器"
   ]
  },
  {
   "cell_type": "code",
   "execution_count": 3,
   "metadata": {
    "pycharm": {
     "is_executing": false
    }
   },
   "outputs": [],
   "source": [
    "GS_root = 'https://scholar.google.com/'\n",
    "\n",
    "test_url = 'https://scholar.google.com.hk/scholar?q=paper&hl=zh-CN&as_sdt=0,5'\n",
    "# 一般第一次需要手动人机验证\n",
    "# todo: 自动绕过谷歌人机验证，可以参考这个链接：\n",
    "# https://github.com/cassieeric/python_crawler/blob/master/Google_verify/Google_verify.py  \n",
    "browser.visit(GS_root)        "
   ]
  },
  {
   "cell_type": "code",
   "execution_count": 77,
   "metadata": {
    "pycharm": {
     "is_executing": false
    }
   },
   "outputs": [],
   "source": [
    "# 在这里更换要查询的论文名字\n",
    "browser.visit(GS_root)\n",
    "time.sleep(0.5)\n",
    "paper_name = 'Understanding Adversarial Attacks on Deep Learning Based Medical Image Analysis Systems'\n",
    "\n",
    "# 访问谷歌学术并查找论文\n",
    "browser.fill('q', paper_name)\n",
    "button = browser.find_by_xpath('//button[@type=\"submit\"]').click()"
   ]
  },
  {
   "cell_type": "code",
   "execution_count": 78,
   "metadata": {},
   "outputs": [
    {
     "output_type": "stream",
     "name": "stdout",
     "text": "原本论文信息：\nENTRYTYPE | article\nID        | cheng2020coarse\nauthor    | Yihua Cheng, Shiyao Huang, Fei Wang, Chen Qian, Feng Lu\njournal   | arXiv preprint arXiv:2001.00187\ntitle     | A Coarse-to-Fine Adaptive Network for Appearance-Based Gaze Estimation\nyear      | 2020\n##############################\n"
    }
   ],
   "source": [
    "# 获取论文信息\n",
    "browser.find_by_xpath('//a[@title=\"引用\"]').first.click()\n",
    "# 打开bibtex页面 并获取信息\n",
    "browser.find_by_xpath('//a[@class=\"gs_citi\"]').click()\n",
    "bibtex = browser.find_by_xpath('//pre').value\n",
    "citation_entry = bibtexparser.loads(bibtex).entries[0]\n",
    "\n",
    "if 'author' in citation_entry.keys():\n",
    "    names = citation_entry['author']\n",
    "    names = names.split('and')\n",
    "    new_names = []\n",
    "    for name in names:\n",
    "        new_name = ' '.join([x.replace(' ', '') for x in reversed(name.split(','))])\n",
    "        new_names.append(new_name)\n",
    "    citation_entry['author'] = ', '.join(new_names)\n",
    "\n",
    "print('原本论文信息：')\n",
    "for key in sorted(citation_entry.keys()):\n",
    "    print('{:<10}| {:<}'.format(key, citation_entry[key]))\n",
    "print('#'*30)\n",
    "\n",
    "# 回退两次返回搜索界面\n",
    "browser.back()\n",
    "browser.back()"
   ]
  },
  {
   "cell_type": "code",
   "execution_count": 79,
   "metadata": {},
   "outputs": [],
   "source": [
    "# 找到第一篇论文作为检索到的论文，打开引用链接\n",
    "cited_links = browser.links.find_by_partial_href('/scholar?cites=')\n",
    "link = cited_links[0].outer_html.split('=\"')[1].split('\">')[0]\n",
    "search_link = GS_root + link[1:]\n",
    "browser.visit(search_link)"
   ]
  },
  {
   "cell_type": "code",
   "execution_count": 80,
   "metadata": {},
   "outputs": [
    {
     "output_type": "stream",
     "name": "stdout",
     "text": "<0> 引用的论文信息：\nENTRYTYPE | article\nID        | wang2020vr\nauthor    | Miao Wang, Xu-Quan Lyu, Yi-Jun Li, Fang-Lue Zhang\njournal   | Computational Visual Media\npages     | 1--26\npublisher | Springer\ntitle     | VR content creation and exploration with deep learning: A survey\nyear      | 2020\nLazy copy:  Computational Visual Media\t2020\t\t\tMiao Wang, Xu-Quan Lyu, Yi-Jun Li, Fang-Lue Zhang\n------------------------------\n现在请点击下一页\n"
    }
   ],
   "source": [
    "\n",
    "# 如果失败或者需要翻页，取消注释并手动设置url\n",
    "# search_link = 'https://scholar.google.com/scholar?start=10&hl=zh-CN&as_sdt=0,5&sciodt=0,5&cites=14976651643158220927&scipsc='\n",
    "\n",
    "# 遍历列表，整理引用我们论文的信息\n",
    "import time\n",
    "links = browser.find_by_xpath('//a[@title=\"引用\"]')\n",
    "n_links = len(links)\n",
    "for ii in range(n_links):\n",
    "    browser.visit(search_link)\n",
    "    links = browser.find_by_xpath('//a[@title=\"引用\"]')\n",
    "    try:\n",
    "        time.sleep(0.5)\n",
    "        link = links[ii]\n",
    "        link.click()\n",
    "        # 打开bibtex页面 并获取信息\n",
    "        browser.find_by_xpath('//a[@class=\"gs_citi\"]').click()\n",
    "        bibtex = browser.find_by_xpath('//pre').value\n",
    "        citation_entry = bibtexparser.loads(bibtex).entries[0]\n",
    "\n",
    "        if 'author' in citation_entry.keys():\n",
    "            names = citation_entry['author']\n",
    "            names = names.split('and')\n",
    "            new_names = []\n",
    "            for name in names:\n",
    "                new_name = ' '.join([x.replace(' ', '') for x in reversed(name.split(','))])\n",
    "                new_names.append(new_name)\n",
    "            citation_entry['author'] = ', '.join(new_names)\n",
    "        \n",
    "        print(f'<{ii}> 引用的论文信息：')\n",
    "        for key in sorted(citation_entry.keys()):\n",
    "            print('{:<10}| {:<}'.format(key, citation_entry[key]))\n",
    "        p_name = citation_entry['journal'] if 'journal' in citation_entry.keys() else citation_entry['booktitle'] if 'booktitle' in citation_entry.keys() else ' '\n",
    "        lazy_copy = '{}\\t{}\\t\\t\\t{}'.format(p_name, citation_entry['year'], citation_entry['author'])\n",
    "        print('Lazy copy: ', lazy_copy)\n",
    "\n",
    "        print('-'*30)\n",
    "    \n",
    "        browser.back()\n",
    "        browser.back()\n",
    "    except Exception as e:\n",
    "        print(f'In {ii}, find error:', e)\n",
    "\n",
    "#  现在，点击下一页，然后把下一页的链接url赋值给 `search_link`\n",
    "print('现在请点击下一页')"
   ]
  },
  {
   "cell_type": "markdown",
   "metadata": {},
   "source": [
    "# 以下的代码被弃用，暂时不要管它"
   ]
  },
  {
   "cell_type": "code",
   "execution_count": 16,
   "metadata": {},
   "outputs": [
    {
     "output_type": "stream",
     "name": "stdout",
     "text": "Processing paper: From intensity profile to surface normal: photometric stereo for unknown light sources and isotropic reflectances\n{'publisher': 'Elsevier', 'year': '2015', 'pages': '429--442', 'volume': '320', 'journal': 'Information Sciences', 'author': 'Liu, Anan and Wang, Zhongyang and Nie, Weizhi and Su, Yuting', 'title': 'Graph-based characteristic view set extraction and matching for 3D model retrieval', 'ENTRYTYPE': 'article', 'ID': 'liu2015graph'}\nMessage: stale element reference: element is not attached to the page document\n  (Session info: chrome=80.0.3987.149)\n\n{'publisher': 'IEEE', 'year': '2016', 'pages': '2060--2073', 'number': '10', 'volume': '39', 'journal': 'IEEE Transactions on Pattern Analysis and Machine Intelligence', 'author': 'Hui, Zhuo and Sankaranarayanan, Aswin C', 'title': 'Shape and spatially-varying reflectance estimation from virtual exemplars', 'ENTRYTYPE': 'article', 'ID': 'hui2016shape'}\nMessage: stale element reference: element is not attached to the page document\n  (Session info: chrome=80.0.3987.149)\n\n{'year': '2018', 'pages': '3--18', 'booktitle': 'Proceedings of the European Conference on Computer Vision (ECCV)', 'author': 'Chen, Guanying and Han, Kai and Wong, Kwan-Yee K', 'title': 'PS-FCN: A flexible learning framework for photometric stereo', 'ENTRYTYPE': 'inproceedings', 'ID': 'chen2018ps'}\nMessage: stale element reference: element is not attached to the page document\n  (Session info: chrome=80.0.3987.149)\n\n{'publisher': 'Elsevier', 'year': '2017', 'pages': '119--129', 'volume': '259', 'journal': 'Neurocomputing', 'author': 'You, Shaodi and Zhang, Diming', 'title': 'Think locally, fit globally: Robust and fast 3d shape matching via adaptive algebraic fitting', 'ENTRYTYPE': 'article', 'ID': 'you2017think'}\nMessage: stale element reference: element is not attached to the page document\n  (Session info: chrome=80.0.3987.149)\n\n{'publisher': 'IEEE', 'year': '2016', 'pages': '439--451', 'number': '1', 'volume': '26', 'journal': 'IEEE Transactions on Image Processing', 'author': 'Shen, Hui-Liang and Han, Tian-Qi and Li, Chunguang', 'title': 'Efficient photometric stereo using kernel regression', 'ENTRYTYPE': 'article', 'ID': 'shen2016efficient'}\nMessage: stale element reference: element is not attached to the page document\n  (Session info: chrome=80.0.3987.149)\n\nFrom intensity profile to surface normal: photometric stereo for unknown light sources and isotropic reflectances is finished.\nProcessing paper: Gaze Estimation from Eye Appearance: A Head Pose-Free Method via Eye Image Synthesis\n{'year': '2017', 'pages': '51--60', 'booktitle': 'Proceedings of the IEEE Conference on Computer Vision and Pattern Recognition Workshops', 'author': 'Zhang, Xucong and Sugano, Yusuke and Fritz, Mario and Bulling, Andreas', 'title': \"It's written all over your face: Full-face appearance-based gaze estimation\", 'ENTRYTYPE': 'inproceedings', 'ID': 'zhang2017s'}\nMessage: stale element reference: element is not attached to the page document\n  (Session info: chrome=80.0.3987.149)\n\n{'publisher': 'Hindawi', 'year': '2016', 'volume': '2016', 'journal': 'Computational intelligence and neuroscience', 'author': 'Ferhat, Onur and Vilari{\\\\~n}o, Fernando', 'title': 'Low cost eye tracking: The current panorama', 'ENTRYTYPE': 'article', 'ID': 'ferhat2016low'}\nMessage: stale element reference: element is not attached to the page document\n  (Session info: chrome=80.0.3987.149)\n\n{'year': '2018', 'pages': '334--352', 'booktitle': 'Proceedings of the European Conference on Computer Vision (ECCV)', 'author': 'Fischer, Tobias and Jin Chang, Hyung and Demiris, Yiannis', 'title': 'Rt-gene: Real-time eye gaze estimation in natural environments', 'ENTRYTYPE': 'inproceedings', 'ID': 'fischer2018rt'}\nMessage: stale element reference: element is not attached to the page document\n  (Session info: chrome=80.0.3987.149)\n\n{'year': '2018', 'pages': '1--9', 'booktitle': 'Proceedings of the 2018 ACM Symposium on Eye Tracking Research \\\\& Applications', 'author': 'Zhang, Xucong and Sugano, Yusuke and Bulling, Andreas', 'title': 'Revisiting data normalization for appearance-based gaze estimation', 'ENTRYTYPE': 'inproceedings', 'ID': 'zhang2018revisiting'}\nMessage: stale element reference: element is not attached to the page document\n  (Session info: chrome=80.0.3987.149)\n\n{'publisher': 'IEEE', 'year': '2016', 'pages': '2623--2638', 'number': '12', 'volume': '27', 'journal': 'IEEE Transactions on Circuits and Systems for Video Technology', 'author': 'Arar, Nuri Murat and Gao, Hua and Thiran, Jean-Philippe', 'title': 'A regression-based user calibration framework for real-time gaze estimation', 'ENTRYTYPE': 'article', 'ID': 'arar2016regression'}\nMessage: stale element reference: element is not attached to the page document\n  (Session info: chrome=80.0.3987.149)\n\nGaze Estimation from Eye Appearance: A Head Pose-Free Method via Eye Image Synthesis is finished.\nProcessing paper: Uncalibrated Photometric Stereo Based on Elevation Angle Recovery from BRDF Symmetry of Isotropic Materials\n{'year': '2016', 'pages': '3707--3716', 'booktitle': 'Proceedings of the IEEE Conference on Computer Vision and Pattern Recognition', 'author': 'Shi, Boxin and Wu, Zhe and Mo, Zhipeng and Duan, Dinglong and Yeung, Sai-Kit and Tan, Ping', 'title': 'A benchmark dataset and evaluation for non-lambertian and uncalibrated photometric stereo', 'ENTRYTYPE': 'inproceedings', 'ID': 'shi2016benchmark'}\nMessage: stale element reference: element is not attached to the page document\n  (Session info: chrome=80.0.3987.149)\n\n{'year': '2017', 'pages': '99--108', 'booktitle': 'Proceedings of the IEEE Conference on Computer Vision and Pattern Recognition', 'author': \"Qu{\\\\'e}au, Yvain and Wu, Tao and Lauze, Fran{\\\\c{c}}ois and Durou, Jean-Denis and Cremers, Daniel\", 'title': 'A non-convex variational approach to photometric stereo under inaccurate lighting', 'ENTRYTYPE': 'inproceedings', 'ID': 'queau2017non'}\nMessage: stale element reference: element is not attached to the page document\n  (Session info: chrome=80.0.3987.149)\n\n{'publisher': 'IEEE', 'year': '2016', 'pages': '2060--2073', 'number': '10', 'volume': '39', 'journal': 'IEEE Transactions on Pattern Analysis and Machine Intelligence', 'author': 'Hui, Zhuo and Sankaranarayanan, Aswin C', 'title': 'Shape and spatially-varying reflectance estimation from virtual exemplars', 'ENTRYTYPE': 'article', 'ID': 'hui2016shape'}\nMessage: stale element reference: element is not attached to the page document\n  (Session info: chrome=80.0.3987.149)\n\n{'publisher': 'Elsevier', 'year': '2016', 'pages': '65--73', 'volume': '195', 'journal': 'Neurocomputing', 'author': 'Xiao, Ruoxiu and Yang, Jian and Fan, Jingfan and Ai, Danni and Wang, Guangzhi and Wang, Yongtian', 'title': 'Shape context and projection geometry constrained vasculature matching for 3D reconstruction of coronary artery', 'ENTRYTYPE': 'article', 'ID': 'xiao2016shape'}\nMessage: stale element reference: element is not attached to the page document\n  (Session info: chrome=80.0.3987.149)\n\n{'publisher': 'Elsevier', 'year': '2017', 'pages': '176--182', 'volume': '259', 'journal': 'Neurocomputing', 'author': 'Liu, Anan and Li, Wenhui and Nie, Weizhi and Su, Yuting', 'title': '3D models retrieval algorithm based on multimodal data', 'ENTRYTYPE': 'article', 'ID': 'liu20173d'}\nMessage: stale element reference: element is not attached to the page document\n  (Session info: chrome=80.0.3987.149)\n\nUncalibrated Photometric Stereo Based on Elevation Angle Recovery from BRDF Symmetry of Isotropic Materials is finished.\nProcessing paper: Estimating 3D Gaze Directions Using Unlabeled Eye images via Synthetic Iris Appearance Fitting\n{'publisher': 'IEEE', 'year': '2017', 'pages': '16495--16519', 'volume': '5', 'journal': 'IEEE Access', 'author': 'Kar, Anuradha and Corcoran, Peter', 'title': 'A review and analysis of eye-gaze estimation systems, algorithms and performance evaluation methods in consumer platforms', 'ENTRYTYPE': 'article', 'ID': 'kar2017review'}\nMessage: stale element reference: element is not attached to the page document\n  (Session info: chrome=80.0.3987.149)\n\n{'publisher': 'Springer', 'year': '2020', 'pages': '1--26', 'journal': 'Computational Visual Media', 'author': 'Wang, Miao and Lyu, Xu-Quan and Li, Yi-Jun and Zhang, Fang-Lue', 'title': 'VR content creation and exploration with deep learning: A survey', 'ENTRYTYPE': 'article', 'ID': 'wang2020vr'}\nMessage: stale element reference: element is not attached to the page document\n  (Session info: chrome=80.0.3987.149)\n\nEstimating 3D Gaze Directions Using Unlabeled Eye images via Synthetic Iris Appearance Fitting is finished.\nProcessing paper: Error-tolerant Manipulation by Immobilization and Caging\n{'publisher': 'IEEE', 'year': '2019', 'pages': '549--563', 'number': '3', 'volume': '35', 'journal': 'IEEE Transactions on Robotics', 'author': 'Ma, Raymond R and Bircher, Walter G and Dollar, Aaron M', 'title': 'Modeling and Evaluation of Robust Whole-Hand Caging Manipulation', 'ENTRYTYPE': 'article', 'ID': 'ma2019modeling'}\nError-tolerant Manipulation by Immobilization and Caging is finished.\nProcessing paper: Person-independent eye gaze prediction from eye images using patch-based features\n{'publisher': 'Elsevier', 'year': '2016', 'pages': '293--301', 'volume': '110', 'journal': 'Knowledge-Based Systems', 'author': 'Wang, Yafei and Shen, Tianyi and Yuan, Guoliang and Bian, Jiming and Fu, Xianping', 'title': 'Appearance-based gaze estimation using deep features and random forest regression', 'ENTRYTYPE': 'article', 'ID': 'wang2016appearance'}\nMessage: stale element reference: element is not attached to the page document\n  (Session info: chrome=80.0.3987.149)\n\n{'organization': 'IEEE', 'year': '2017', 'pages': '42--46', 'booktitle': '2017 IEEE International Conference on Big Data and Smart Computing (BigComp)', 'author': 'Wang, Yafei and Zhao, Tongtong and Ding, Xueyan and Bian, Jiming and Fu, Xianping', 'title': 'Head pose-free eye gaze prediction for driver attention study', 'ENTRYTYPE': 'inproceedings', 'ID': 'wang2017head'}\nMessage: stale element reference: element is not attached to the page document\n  (Session info: chrome=80.0.3987.149)\n\n{'publisher': 'Elsevier', 'year': '2019', 'journal': 'Computers in biology and medicine', 'author': \"Larrazabal, AJ and Cena, CE Garc{\\\\'\\\\i}a and Mart{\\\\'\\\\i}nez, CE\", 'title': 'Video-oculography eye tracking towards clinical applications: A review', 'ENTRYTYPE': 'article', 'ID': 'larrazabal2019video'}\nMessage: stale element reference: element is not attached to the page document\n  (Session info: chrome=80.0.3987.149)\n\n{'organization': 'IEEE', 'year': '2020', 'pages': '357--360', 'booktitle': '2020 12th International Conference on Measuring Technology and Mechatronics Automation (ICMTMA)', 'author': 'Shan, Xinghua and Wang, Zengcai and Liu, Xiangpeng and Lin, Mingxing and Zhao, Lei and Wang, Jinshan and Wang, Guodong', 'title': 'Driver Gaze Region Estimation Based on Computer Vision', 'ENTRYTYPE': 'inproceedings', 'ID': 'shan2020driver'}\nMessage: stale element reference: element is not attached to the page document\n  (Session info: chrome=80.0.3987.149)\n\n{'year': '2017', 'author': 'Ferhat, Onur', 'title': 'A gaze estimation method and system for natural light cameras', 'ENTRYTYPE': 'book', 'ID': 'ferhat2017gaze'}\nPerson-independent eye gaze prediction from eye images using patch-based features is finished.\nProcessing paper: Visual Facial Expression Modeling and Early Predicting from 3D Data via Subtle Feature Enhancing\n{'publisher': 'Elsevier', 'year': '2017', 'pages': '66--75', 'volume': '259', 'journal': 'Neurocomputing', 'author': 'Su, Lumei and Xu, Min', 'title': 'Sleep comfort analysis using a part-based mixture model with nighttime infrared video', 'ENTRYTYPE': 'article', 'ID': 'su2017sleep'}\nVisual Facial Expression Modeling and Early Predicting from 3D Data via Subtle Feature Enhancing is finished.\nProcessing paper: 3-Points Convex Hull Matching (3PCHM) for Fast and Robust Point Set registration\n{'publisher': 'Elsevier', 'year': '2019', 'pages': '193--206', 'volume': '54', 'journal': 'Medical image analysis', 'author': 'Fan, Jingfan and Cao, Xiaohuan and Yap, Pew-Thian and Shen, Dinggang', 'title': 'BIRNet: Brain image registration using dual-supervised fully convolutional networks', 'ENTRYTYPE': 'article', 'ID': 'fan2019birnet'}\nMessage: stale element reference: element is not attached to the page document\n  (Session info: chrome=80.0.3987.149)\n\n{'publisher': 'IEEE', 'year': '2016', 'pages': '2042--2055', 'number': '9', 'volume': '23', 'journal': 'IEEE transactions on visualization and computer graphics', 'author': 'Fan, Jingfan and Yang, Jian and Zhao, Yitian and Ai, Danni and Liu, Yonghuai and Wang, Ge and Wang, Yongtian', 'title': 'Convex hull aided registration method (CHARM)', 'ENTRYTYPE': 'article', 'ID': 'fan2016convex'}\nMessage: stale element reference: element is not attached to the page document\n  (Session info: chrome=80.0.3987.149)\n\n{'publisher': 'Elsevier', 'year': '2019', 'pages': '101545', 'volume': '58', 'journal': 'Medical image analysis', 'author': 'Fan, Jingfan and Cao, Xiaohuan and Wang, Qian and Yap, Pew-Thian and Shen, Dinggang', 'title': 'Adversarial learning for mono-or multi-modal registration', 'ENTRYTYPE': 'article', 'ID': 'fan2019adversarial'}\nMessage: stale element reference: element is not attached to the page document\n  (Session info: chrome=80.0.3987.149)\n\n{'organization': 'IEEE', 'year': '2016', 'pages': '1--8', 'booktitle': '2016 International Conference on Digital Image Computing: Techniques and Applications (DICTA)', 'author': 'Li, Yue and Wang, Bin and Gao, Yongsheng and Zhou, Jun', 'title': 'Affine invariant point-set matching using convex hull bisection', 'ENTRYTYPE': 'inproceedings', 'ID': 'li2016affine'}\nMessage: element not interactable\n  (Session info: chrome=80.0.3987.149)\n\n"
    },
    {
     "output_type": "error",
     "ename": "ElementDoesNotExist",
     "evalue": "no elements could be found with xpath \"//a[@title=\"引用\"]\"",
     "traceback": [
      "\u001b[1;31m---------------------------------------------------------------------------\u001b[0m",
      "\u001b[1;31mIndexError\u001b[0m                                Traceback (most recent call last)",
      "\u001b[1;32mD:\\Program Files\\Python\\Python37\\lib\\site-packages\\splinter\\element_list.py\u001b[0m in \u001b[0;36m__getitem__\u001b[1;34m(self, index)\u001b[0m\n\u001b[0;32m     41\u001b[0m         \u001b[1;32mtry\u001b[0m\u001b[1;33m:\u001b[0m\u001b[1;33m\u001b[0m\u001b[1;33m\u001b[0m\u001b[0m\n\u001b[1;32m---> 42\u001b[1;33m             \u001b[1;32mreturn\u001b[0m \u001b[0mself\u001b[0m\u001b[1;33m.\u001b[0m\u001b[0m_container\u001b[0m\u001b[1;33m[\u001b[0m\u001b[0mindex\u001b[0m\u001b[1;33m]\u001b[0m\u001b[1;33m\u001b[0m\u001b[1;33m\u001b[0m\u001b[0m\n\u001b[0m\u001b[0;32m     43\u001b[0m         \u001b[1;32mexcept\u001b[0m \u001b[0mIndexError\u001b[0m\u001b[1;33m:\u001b[0m\u001b[1;33m\u001b[0m\u001b[1;33m\u001b[0m\u001b[0m\n",
      "\u001b[1;31mIndexError\u001b[0m: list index out of range",
      "\nDuring handling of the above exception, another exception occurred:\n",
      "\u001b[1;31mElementDoesNotExist\u001b[0m                       Traceback (most recent call last)",
      "\u001b[1;32m<ipython-input-16-860e4c647229>\u001b[0m in \u001b[0;36m<module>\u001b[1;34m\u001b[0m\n\u001b[0;32m     39\u001b[0m             \u001b[0mn_links\u001b[0m \u001b[1;33m=\u001b[0m \u001b[0mlen\u001b[0m\u001b[1;33m(\u001b[0m\u001b[0mlinks\u001b[0m\u001b[1;33m)\u001b[0m\u001b[1;33m\u001b[0m\u001b[1;33m\u001b[0m\u001b[0m\n\u001b[0;32m     40\u001b[0m             \u001b[1;32mfor\u001b[0m \u001b[0mii\u001b[0m \u001b[1;32min\u001b[0m \u001b[0mrange\u001b[0m\u001b[1;33m(\u001b[0m\u001b[0mn_links\u001b[0m\u001b[1;33m)\u001b[0m\u001b[1;33m:\u001b[0m\u001b[1;33m\u001b[0m\u001b[1;33m\u001b[0m\u001b[0m\n\u001b[1;32m---> 41\u001b[1;33m                 \u001b[0mlink\u001b[0m \u001b[1;33m=\u001b[0m \u001b[0mlinks\u001b[0m\u001b[1;33m[\u001b[0m\u001b[0mii\u001b[0m\u001b[1;33m]\u001b[0m\u001b[1;33m\u001b[0m\u001b[1;33m\u001b[0m\u001b[0m\n\u001b[0m\u001b[0;32m     42\u001b[0m                 \u001b[1;32mtry\u001b[0m\u001b[1;33m:\u001b[0m\u001b[1;33m\u001b[0m\u001b[1;33m\u001b[0m\u001b[0m\n\u001b[0;32m     43\u001b[0m                     \u001b[0mlink\u001b[0m\u001b[1;33m.\u001b[0m\u001b[0mclick\u001b[0m\u001b[1;33m(\u001b[0m\u001b[1;33m)\u001b[0m\u001b[1;33m\u001b[0m\u001b[1;33m\u001b[0m\u001b[0m\n",
      "\u001b[1;32mD:\\Program Files\\Python\\Python37\\lib\\site-packages\\splinter\\element_list.py\u001b[0m in \u001b[0;36m__getitem__\u001b[1;34m(self, index)\u001b[0m\n\u001b[0;32m     44\u001b[0m             raise ElementDoesNotExist(\n\u001b[0;32m     45\u001b[0m                 u'no elements could be found with {0} \"{1}\"'.format(\n\u001b[1;32m---> 46\u001b[1;33m                     \u001b[0mself\u001b[0m\u001b[1;33m.\u001b[0m\u001b[0mfind_by\u001b[0m\u001b[1;33m,\u001b[0m \u001b[0mself\u001b[0m\u001b[1;33m.\u001b[0m\u001b[0mquery\u001b[0m\u001b[1;33m\u001b[0m\u001b[1;33m\u001b[0m\u001b[0m\n\u001b[0m\u001b[0;32m     47\u001b[0m                 )\n\u001b[0;32m     48\u001b[0m             )\n",
      "\u001b[1;31mElementDoesNotExist\u001b[0m: no elements could be found with xpath \"//a[@title=\"引用\"]\""
     ]
    }
   ],
   "source": [
    "with open('summary.csv', 'w') as fid_write:\n",
    "    is_csv_header = True\n",
    "    for paper_name in paper_list:\n",
    "        print(f'Processing paper: {paper_name}')\n",
    "\n",
    "        # 访问谷歌学术并查找论文\n",
    "        browser.visit(GS_root)\n",
    "        browser.fill('q', paper_name)\n",
    "        browser.find_by_xpath('//button[@type=\"submit\"]').click()\n",
    "\n",
    "        # 获取论文信息\n",
    "        browser.find_by_xpath('//a[@title=\"引用\"]').first.click()\n",
    "        # 打开bibtex页面 并获取信息\n",
    "        browser.find_by_xpath('//a[@class=\"gs_citi\"]').click()\n",
    "        bibtex = browser.find_by_xpath('//pre').value\n",
    "        citation_entry = bibtexparser.loads(bibtex).entries[0]\n",
    "\n",
    "        p_name = citation_entry['title']\n",
    "        p_time = citation_entry['year']\n",
    "        p_author = citation_entry['author']\n",
    "        if 'journal' in citation_entry.keys():\n",
    "            p_jrnl = citation_entry['journal']\n",
    "        elif 'booktitle' in citation_entry.keys():\n",
    "            p_jrnl = citation_entry['booktitle']\n",
    "        else:\n",
    "            p_jrnl = ' '\n",
    "        browser.back()\n",
    "        browser.back()\n",
    "\n",
    "        # 找到第一篇论文作为检索到的论文，打开引用链接\n",
    "        cited_links = browser.links.find_by_partial_href('/scholar?cites=')\n",
    "        link = cited_links[0].outer_html.split('=\"')[1].split('\">')[0]\n",
    "        search_link = GS_root + link[1:]\n",
    "        browser.visit(search_link)\n",
    "\n",
    "        while True:\n",
    "            # 遍历列表，整理引用我们论文的信息\n",
    "            links = browser.find_by_xpath('//a[@title=\"引用\"]')\n",
    "            n_links = len(links)\n",
    "            for ii in range(n_links):\n",
    "                link = links[ii]\n",
    "                try:\n",
    "                    link.click()\n",
    "                    # 打开bibtex页面 并获取信息\n",
    "                    browser.find_by_xpath('//a[@class=\"gs_citi\"]').click()\n",
    "                    bibtex = browser.find_by_xpath('//pre').value\n",
    "                    citation_entry = bibtexparser.loads(bibtex).entries[0]\n",
    "                    print(citation_entry)\n",
    "\n",
    "                    # 整理信息到文件\n",
    "                    r_name = citation_entry['title']\n",
    "                    r_time = citation_entry['year']\n",
    "                    r_author = citation_entry['author']\n",
    "                    if 'journal' in citation_entry.keys():\n",
    "                        r_jrnl = citation_entry['journal']\n",
    "                    elif 'booktitle' in citation_entry.keys():\n",
    "                        r_jrnl = citation_entry['booktitle']\n",
    "                    else:\n",
    "                        r_jrnl = ' '\n",
    "                    write_csv_line(fid_write, (p_name, p_jrnl, p_time, p_author,\n",
    "                                            r_name, r_jrnl, r_time, r_author), is_first=is_csv_header)\n",
    "                    is_csv_header = False\n",
    "\n",
    "                    browser.back()\n",
    "                    browser.back()\n",
    "                    links = browser.find_by_xpath('//a[@title=\"引用\"]')\n",
    "                except Exception as e:\n",
    "                    print(e)\n",
    "                    browser.visit(search_link)\n",
    "                    links = browser.find_by_xpath('//a[@title=\"引用\"]')\n",
    "            try:\n",
    "                browser.find_link_by_text('下一页').click()\n",
    "            except splinter.exceptions.ElementDoesNotExist as e:\n",
    "                # 没找到下一页，一篇论文整理结束\n",
    "                print(f'{paper_name} is finished.')\n",
    "                break\n",
    "\n",
    "browser.close()"
   ]
  },
  {
   "cell_type": "code",
   "execution_count": 12,
   "metadata": {
    "pycharm": {
     "is_executing": false
    }
   },
   "outputs": [],
   "source": [
    "import time\n",
    "test_url = 'https://scholar.google.com/scholar?cites=12023925925526822666&amp;as_sdt=2005&amp;sciodt=0,5&amp;hl=zh-CN&google_abuse=GOOGLE_ABUSE_EXEMPTION%3DID%3Dfba1c7ce6762b209:TM%3D1585781820:C%3Dr:IP%3D74.120.174.104-:S%3DAPGng0u6GHSRPKTi-K3OByo1wAv5RbwG8g%3B+path%3D/%3B+domain%3Dgoogle.com%3B+expires%3DThu,+02-Apr-2020+01:57:00+GMT'\n",
    "browser.visit(test_url)\n"
   ]
  },
  {
   "cell_type": "code",
   "execution_count": 13,
   "outputs": [
    {
     "traceback": [
      "\u001b[1;31m---------------------------------------------------------------------------\u001b[0m",
      "\u001b[1;31mIndexError\u001b[0m                                Traceback (most recent call last)",
      "\u001b[1;32mD:\\Program Files\\Python\\Python37\\lib\\site-packages\\splinter\\element_list.py\u001b[0m in \u001b[0;36m__getitem__\u001b[1;34m(self, index)\u001b[0m\n\u001b[0;32m     41\u001b[0m         \u001b[1;32mtry\u001b[0m\u001b[1;33m:\u001b[0m\u001b[1;33m\u001b[0m\u001b[1;33m\u001b[0m\u001b[0m\n\u001b[1;32m---> 42\u001b[1;33m             \u001b[1;32mreturn\u001b[0m \u001b[0mself\u001b[0m\u001b[1;33m.\u001b[0m\u001b[0m_container\u001b[0m\u001b[1;33m[\u001b[0m\u001b[0mindex\u001b[0m\u001b[1;33m]\u001b[0m\u001b[1;33m\u001b[0m\u001b[1;33m\u001b[0m\u001b[0m\n\u001b[0m\u001b[0;32m     43\u001b[0m         \u001b[1;32mexcept\u001b[0m \u001b[0mIndexError\u001b[0m\u001b[1;33m:\u001b[0m\u001b[1;33m\u001b[0m\u001b[1;33m\u001b[0m\u001b[0m\n",
      "\u001b[1;31mIndexError\u001b[0m: list index out of range",
      "\nDuring handling of the above exception, another exception occurred:\n",
      "\u001b[1;31mElementDoesNotExist\u001b[0m                       Traceback (most recent call last)",
      "\u001b[1;32m<ipython-input-13-0b6cf4989052>\u001b[0m in \u001b[0;36m<module>\u001b[1;34m\u001b[0m\n\u001b[0;32m      1\u001b[0m \u001b[0maa\u001b[0m \u001b[1;33m=\u001b[0m \u001b[0mbrowser\u001b[0m\u001b[1;33m.\u001b[0m\u001b[0mfind_link_by_text\u001b[0m\u001b[1;33m(\u001b[0m\u001b[1;34m'下一页'\u001b[0m\u001b[1;33m)\u001b[0m\u001b[1;33m\u001b[0m\u001b[1;33m\u001b[0m\u001b[0m\n\u001b[1;32m----> 2\u001b[1;33m \u001b[0mprint\u001b[0m\u001b[1;33m(\u001b[0m\u001b[0maa\u001b[0m\u001b[1;33m.\u001b[0m\u001b[0mouter_html\u001b[0m\u001b[1;33m)\u001b[0m\u001b[1;33m\u001b[0m\u001b[1;33m\u001b[0m\u001b[0m\n\u001b[0m\u001b[0;32m      3\u001b[0m \u001b[1;33m\u001b[0m\u001b[0m\n",
      "\u001b[1;32mD:\\Program Files\\Python\\Python37\\lib\\site-packages\\splinter\\element_list.py\u001b[0m in \u001b[0;36m__getattr__\u001b[1;34m(self, name)\u001b[0m\n\u001b[0;32m     74\u001b[0m     \u001b[1;32mdef\u001b[0m \u001b[0m__getattr__\u001b[0m\u001b[1;33m(\u001b[0m\u001b[0mself\u001b[0m\u001b[1;33m,\u001b[0m \u001b[0mname\u001b[0m\u001b[1;33m)\u001b[0m\u001b[1;33m:\u001b[0m\u001b[1;33m\u001b[0m\u001b[1;33m\u001b[0m\u001b[0m\n\u001b[0;32m     75\u001b[0m         \u001b[1;32mtry\u001b[0m\u001b[1;33m:\u001b[0m\u001b[1;33m\u001b[0m\u001b[1;33m\u001b[0m\u001b[0m\n\u001b[1;32m---> 76\u001b[1;33m             \u001b[1;32mreturn\u001b[0m \u001b[0mgetattr\u001b[0m\u001b[1;33m(\u001b[0m\u001b[0mself\u001b[0m\u001b[1;33m.\u001b[0m\u001b[0mfirst\u001b[0m\u001b[1;33m,\u001b[0m \u001b[0mname\u001b[0m\u001b[1;33m)\u001b[0m\u001b[1;33m\u001b[0m\u001b[1;33m\u001b[0m\u001b[0m\n\u001b[0m\u001b[0;32m     77\u001b[0m         \u001b[1;32mexcept\u001b[0m \u001b[0mAttributeError\u001b[0m\u001b[1;33m:\u001b[0m\u001b[1;33m\u001b[0m\u001b[1;33m\u001b[0m\u001b[0m\n\u001b[0;32m     78\u001b[0m             \u001b[1;32mtry\u001b[0m\u001b[1;33m:\u001b[0m\u001b[1;33m\u001b[0m\u001b[1;33m\u001b[0m\u001b[0m\n",
      "\u001b[1;32mD:\\Program Files\\Python\\Python37\\lib\\site-packages\\splinter\\element_list.py\u001b[0m in \u001b[0;36mfirst\u001b[1;34m(self)\u001b[0m\n\u001b[0;32m     55\u001b[0m             \u001b[1;33m>>\u001b[0m\u001b[1;33m>\u001b[0m \u001b[1;32massert\u001b[0m \u001b[0melement_list\u001b[0m\u001b[1;33m[\u001b[0m\u001b[1;36m0\u001b[0m\u001b[1;33m]\u001b[0m \u001b[1;33m==\u001b[0m \u001b[0melement_list\u001b[0m\u001b[1;33m.\u001b[0m\u001b[0mfirst\u001b[0m\u001b[1;33m\u001b[0m\u001b[1;33m\u001b[0m\u001b[0m\n\u001b[0;32m     56\u001b[0m         \"\"\"\n\u001b[1;32m---> 57\u001b[1;33m         \u001b[1;32mreturn\u001b[0m \u001b[0mself\u001b[0m\u001b[1;33m[\u001b[0m\u001b[1;36m0\u001b[0m\u001b[1;33m]\u001b[0m\u001b[1;33m\u001b[0m\u001b[1;33m\u001b[0m\u001b[0m\n\u001b[0m\u001b[0;32m     58\u001b[0m \u001b[1;33m\u001b[0m\u001b[0m\n\u001b[0;32m     59\u001b[0m     \u001b[1;33m@\u001b[0m\u001b[0mproperty\u001b[0m\u001b[1;33m\u001b[0m\u001b[1;33m\u001b[0m\u001b[0m\n",
      "\u001b[1;32mD:\\Program Files\\Python\\Python37\\lib\\site-packages\\splinter\\element_list.py\u001b[0m in \u001b[0;36m__getitem__\u001b[1;34m(self, index)\u001b[0m\n\u001b[0;32m     44\u001b[0m             raise ElementDoesNotExist(\n\u001b[0;32m     45\u001b[0m                 u'no elements could be found with {0} \"{1}\"'.format(\n\u001b[1;32m---> 46\u001b[1;33m                     \u001b[0mself\u001b[0m\u001b[1;33m.\u001b[0m\u001b[0mfind_by\u001b[0m\u001b[1;33m,\u001b[0m \u001b[0mself\u001b[0m\u001b[1;33m.\u001b[0m\u001b[0mquery\u001b[0m\u001b[1;33m\u001b[0m\u001b[1;33m\u001b[0m\u001b[0m\n\u001b[0m\u001b[0;32m     47\u001b[0m                 )\n\u001b[0;32m     48\u001b[0m             )\n",
      "\u001b[1;31mElementDoesNotExist\u001b[0m: no elements could be found with link by text \"下一页\""
     ],
     "ename": "ElementDoesNotExist",
     "evalue": "no elements could be found with link by text \"下一页\"",
     "output_type": "error"
    }
   ],
   "source": [
    "aa = browser.find_link_by_text('下一页')\n",
    "print(aa.outer_html)"
   ],
   "metadata": {
    "collapsed": false,
    "pycharm": {
     "name": "#%%\n",
     "is_executing": false
    }
   }
  }
 ],
 "metadata": {
  "file_extension": ".py",
  "kernelspec": {
   "display_name": "Python 3.7.4 64-bit",
   "language": "python",
   "name": "python37464bite54abfc3abf649d58e2deda98ec755c8"
  },
  "language_info": {
   "codemirror_mode": {
    "name": "ipython",
    "version": 3
   },
   "file_extension": ".py",
   "mimetype": "text/x-python",
   "name": "python",
   "nbconvert_exporter": "python",
   "pygments_lexer": "ipython3",
   "version": "3.7.4-final"
  },
  "mimetype": "text/x-python",
  "name": "python",
  "npconvert_exporter": "python",
  "pygments_lexer": "ipython3",
  "version": 3,
  "pycharm": {
   "stem_cell": {
    "cell_type": "raw",
    "source": [],
    "metadata": {
     "collapsed": false
    }
   }
  }
 },
 "nbformat": 4,
 "nbformat_minor": 4
}